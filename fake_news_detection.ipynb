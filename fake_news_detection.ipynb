{
  "cells": [
    {
      "cell_type": "markdown",
      "metadata": {
        "id": "view-in-github",
        "colab_type": "text"
      },
      "source": [
        "<a href=\"https://colab.research.google.com/github/alaaasfour/Fake-News-Detection/blob/main/fake_news_detection.ipynb\" target=\"_parent\"><img src=\"https://colab.research.google.com/assets/colab-badge.svg\" alt=\"Open In Colab\"/></a>"
      ]
    },
    {
      "cell_type": "markdown",
      "metadata": {
        "id": "FAxPF85Zd4E4"
      },
      "source": [
        "**Import Packages and Read the data**"
      ]
    },
    {
      "cell_type": "code",
      "execution_count": null,
      "metadata": {
        "id": "kAz8ZA8jCSKa"
      },
      "outputs": [],
      "source": [
        "import re\n",
        "import nltk\n",
        "import numpy as np\n",
        "import pandas as pd\n",
        "import seaborn as sns\n",
        "from google.colab import drive\n",
        "import matplotlib.pyplot as plt\n",
        "from nltk.corpus import stopwords\n",
        "from nltk.stem import PorterStemmer"
      ]
    },
    {
      "cell_type": "markdown",
      "source": [
        "Mount Google Drive to access the dataset and Load the fake and real news datasets"
      ],
      "metadata": {
        "id": "LyiH2gx2TWWP"
      }
    },
    {
      "cell_type": "code",
      "execution_count": null,
      "metadata": {
        "colab": {
          "base_uri": "https://localhost:8080/"
        },
        "id": "vvIsP1s4aWEq",
        "outputId": "9a92f301-06be-4ff9-ce9e-f1a9b0b8cc7d"
      },
      "outputs": [
        {
          "name": "stdout",
          "output_type": "stream",
          "text": [
            "Mounted at /content/drive\n"
          ]
        }
      ],
      "source": [
        "drive.mount('/content/drive')\n",
        "fake_data = pd.read_csv('/content/drive/My Drive/Projects/datasets/fake-real-data/Fake.csv')\n",
        "real_data = pd.read_csv('/content/drive/My Drive/Projects/datasets/fake-real-data/True.csv')"
      ]
    },
    {
      "cell_type": "markdown",
      "source": [
        "Assign labels (0 = Fake, 1 = Real)"
      ],
      "metadata": {
        "id": "Vfbab1a9TlUc"
      }
    },
    {
      "cell_type": "code",
      "execution_count": null,
      "metadata": {
        "id": "CCZJh4r6VFbB"
      },
      "outputs": [],
      "source": [
        "fake_data['label'] = 0\n",
        "real_data['label'] = 1"
      ]
    },
    {
      "cell_type": "markdown",
      "metadata": {
        "id": "T0mHaODUBtp0"
      },
      "source": [
        "Drop nulls and duplicates to clean the data"
      ]
    },
    {
      "cell_type": "code",
      "execution_count": null,
      "metadata": {
        "id": "fERAHUBYVx34"
      },
      "outputs": [],
      "source": [
        "fake_data.dropna(inplace=True)\n",
        "fake_data.drop_duplicates(inplace=True)\n",
        "real_data.dropna(inplace=True)\n",
        "real_data.drop_duplicates(inplace=True)"
      ]
    },
    {
      "cell_type": "markdown",
      "metadata": {
        "id": "XjDwMC0QB0Fc"
      },
      "source": [
        "Merge title and text fields into a single content column"
      ]
    },
    {
      "cell_type": "code",
      "execution_count": null,
      "metadata": {
        "id": "9a7dMn_kBrVv"
      },
      "outputs": [],
      "source": [
        "fake_data['content'] = fake_data['title'] + ' ' + fake_data['text']\n",
        "real_data['content'] = real_data['title'] + ' ' + real_data['text']"
      ]
    },
    {
      "cell_type": "markdown",
      "metadata": {
        "id": "pqXXre6aCbjG"
      },
      "source": [
        "Text cleaning: lowercasing, removing non-alphabetic chars, stemming, and removing stopwords"
      ]
    },
    {
      "cell_type": "code",
      "execution_count": null,
      "metadata": {
        "colab": {
          "base_uri": "https://localhost:8080/"
        },
        "id": "DIG9LNB-Cd4b",
        "outputId": "997bcd16-1506-4aad-da6d-ea46bafda280"
      },
      "outputs": [
        {
          "name": "stderr",
          "output_type": "stream",
          "text": [
            "[nltk_data] Downloading package stopwords to /root/nltk_data...\n",
            "[nltk_data]   Unzipping corpora/stopwords.zip.\n"
          ]
        }
      ],
      "source": [
        "nltk.download('stopwords')\n",
        "stop_words = set(stopwords.words('english'))\n",
        "stemmer = PorterStemmer()\n",
        "\n",
        "def clean_text(text):\n",
        "    text = re.sub(r'[^a-zA-Z]', ' ', text.lower())\n",
        "    words = text.split()\n",
        "    words = [stemmer.stem(word) for word in words if word not in stop_words]\n",
        "    return ' '.join(words)\n",
        "\n",
        "fake_data['clean_content'] = fake_data['content'].apply(clean_text)\n",
        "real_data['clean_content'] = real_data['content'].apply(clean_text)"
      ]
    },
    {
      "cell_type": "markdown",
      "metadata": {
        "id": "32ktKT8HFMtN"
      },
      "source": [
        "Text Vectorization (Feature Extraction)\n",
        "\n",
        "Feature extraction using TF-IDF vectorizer"
      ]
    },
    {
      "cell_type": "code",
      "execution_count": null,
      "metadata": {
        "id": "w5bVtN-AFRL2"
      },
      "outputs": [],
      "source": [
        "# Option 1: TF-IDF\n",
        "from sklearn.feature_extraction.text import TfidfVectorizer\n",
        "\n",
        "vectorizer = TfidfVectorizer(max_features=5000)\n",
        "fake_tfidf = vectorizer.fit_transform(fake_data['clean_content'])\n",
        "real_tfidf = vectorizer.transform(real_data['clean_content'])"
      ]
    },
    {
      "cell_type": "markdown",
      "metadata": {
        "id": "9B3-lAaeF2Xo"
      },
      "source": [
        "Split data into training and testing sets"
      ]
    },
    {
      "cell_type": "code",
      "execution_count": null,
      "metadata": {
        "id": "6PWGMCkHF4Wt"
      },
      "outputs": [],
      "source": [
        "from sklearn.model_selection import train_test_split\n",
        "\n",
        "X_fake_train, X_fake_test, y_fake_train, y_fake_test = train_test_split(fake_tfidf, fake_data['label'], test_size=0.2, random_state=42)\n",
        "X_real_train, X_real_test, y_real_train, y_real_test = train_test_split(real_tfidf, real_data['label'], test_size=0.2, random_state=42)"
      ]
    },
    {
      "cell_type": "markdown",
      "metadata": {
        "id": "sobBFuZ8GQqT"
      },
      "source": [
        "Train multiple classical ML models and compare performance"
      ]
    },
    {
      "cell_type": "code",
      "execution_count": null,
      "metadata": {
        "colab": {
          "base_uri": "https://localhost:8080/"
        },
        "id": "GFthtzNzGSzo",
        "outputId": "af6c3f66-6cb3-4780-815f-5944744b3184"
      },
      "outputs": [
        {
          "name": "stdout",
          "output_type": "stream",
          "text": [
            "Random Forest Accuracy: 0.9978742447974939\n",
            "Logistic Regression Accuracy: 0.9931752069814276\n",
            "Naive Bayes Accuracy: 0.9346609979861267\n"
          ]
        }
      ],
      "source": [
        "from sklearn.ensemble import RandomForestClassifier\n",
        "from sklearn.linear_model import LogisticRegression\n",
        "from sklearn.naive_bayes import MultinomialNB\n",
        "from sklearn.model_selection import train_test_split\n",
        "from scipy.sparse import vstack\n",
        "\n",
        "# Combine fake and real data\n",
        "X_combined = vstack([fake_tfidf, real_tfidf])\n",
        "y_combined = pd.concat([fake_data['label'], real_data['label']])\n",
        "\n",
        "# Split combined data\n",
        "X_train, X_test, y_train, y_test = train_test_split(X_combined, y_combined, test_size=0.2, random_state=42)\n",
        "\n",
        "models = {\n",
        "    'Random Forest': RandomForestClassifier(),\n",
        "    'Logistic Regression': LogisticRegression(),\n",
        "    'Naive Bayes': MultinomialNB()\n",
        "}\n",
        "\n",
        "for name, model in models.items():\n",
        "    model.fit(X_train, y_train)\n",
        "    print(f\"{name} Accuracy: {model.score(X_test, y_test)}\")"
      ]
    },
    {
      "cell_type": "markdown",
      "metadata": {
        "id": "rWEmWpMSM9E4"
      },
      "source": [
        "Evaluate the final model using classification metrics"
      ]
    },
    {
      "cell_type": "code",
      "execution_count": null,
      "metadata": {
        "colab": {
          "base_uri": "https://localhost:8080/"
        },
        "id": "h-HFaquLM_kC",
        "outputId": "167b5c8a-853d-4198-ac9b-8bd7f3dfcbf5"
      },
      "outputs": [
        {
          "name": "stdout",
          "output_type": "stream",
          "text": [
            "              precision    recall  f1-score   support\n",
            "\n",
            "           0       0.95      0.93      0.94      4738\n",
            "           1       0.92      0.94      0.93      4200\n",
            "\n",
            "    accuracy                           0.93      8938\n",
            "   macro avg       0.93      0.94      0.93      8938\n",
            "weighted avg       0.93      0.93      0.93      8938\n",
            "\n",
            "[[4398  340]\n",
            " [ 244 3956]]\n"
          ]
        }
      ],
      "source": [
        "# Using metrics such as accuracy, precision, recall, F1-score\n",
        "from sklearn.metrics import classification_report, confusion_matrix\n",
        "y_pred = model.predict(X_test)\n",
        "print(classification_report(y_test, y_pred))\n",
        "print(confusion_matrix(y_test, y_pred))"
      ]
    },
    {
      "cell_type": "markdown",
      "metadata": {
        "id": "JFcYOoU3NrQr"
      },
      "source": [
        "Visualize the confusion matrix"
      ]
    },
    {
      "cell_type": "code",
      "execution_count": null,
      "metadata": {
        "colab": {
          "base_uri": "https://localhost:8080/",
          "height": 472
        },
        "id": "PLeOeUQxNwWL",
        "outputId": "d7d5ff94-c7d6-4f6e-e9dc-6dc5c7df4754"
      },
      "outputs": [
        {
          "data": {
            "image/png": "[encoded data removed]",
            "text/plain": [
              "<Figure size 640x480 with 2 Axes>"
            ]
          },
          "metadata": {},
          "output_type": "display_data"
        }
      ],
      "source": [
        "sns.heatmap(confusion_matrix(y_test, y_pred), annot=True, fmt='d', cmap='Blues')\n",
        "plt.xlabel('Predicted')\n",
        "plt.ylabel('True')\n",
        "plt.title('Confusion Matrix')\n",
        "plt.show()"
      ]
    },
    {
      "cell_type": "markdown",
      "source": [
        "Prepare data for BERT fine-tuning"
      ],
      "metadata": {
        "id": "YXP9iMfcVB5H"
      }
    },
    {
      "cell_type": "code",
      "execution_count": null,
      "metadata": {
        "id": "uthnOG4QWj40"
      },
      "outputs": [],
      "source": [
        "df = pd.concat([fake_data, real_data])\n",
        "X_text = df['clean_content'].values\n",
        "y = df['label'].values\n",
        "\n",
        "from sklearn.model_selection import train_test_split\n",
        "\n",
        "X_train_text, X_test_text, y_train, y_test = train_test_split(X_text, y, test_size=0.2, random_state=42)\n",
        "\n",
        "from transformers import BertTokenizer\n",
        "\n",
        "tokenizer = BertTokenizer.from_pretrained('bert-base-uncased')\n",
        "\n",
        "train_encodings = tokenizer(list(X_train_text), truncation=True, padding=True, max_length=128)\n",
        "test_encodings = tokenizer(list(X_test_text), truncation=True, padding=True, max_length=128)"
      ]
    },
    {
      "cell_type": "markdown",
      "source": [
        "Load pre-trained BERT model for sequence classification"
      ],
      "metadata": {
        "id": "1mXnyiq_VJj7"
      }
    },
    {
      "cell_type": "code",
      "execution_count": null,
      "metadata": {
        "colab": {
          "base_uri": "https://localhost:8080/",
          "height": 156,
          "referenced_widgets": [
            "ea58c431d9cf4fc5b7853bb6da590d18",
            "702aa92796434a1e9dcaeb23cc8d4926",
            "8890b4eda6d142379c68c2734d2ad897",
            "296fbab537944c1099646fd0f14d05df",
            "1a282ff62edf41f1a3a7b8daf0d8519e",
            "7cf3daa553ef455193f2a03cc576351c",
            "0fd388bc154b4a6a8dd01a0e42825939",
            "98a66cdc346e4868856e191794c679ee",
            "19a0a57e6b9e400c8a966d39e2ac682e",
            "f43e4eced4fc45d59f0ef7257adb694a",
            "cdc88b6c562e48eaab54e1a17f1fa615"
          ]
        },
        "id": "2Nil7rG22apZ",
        "outputId": "8220544d-50fd-4426-ddb2-87ef1208f408"
      },
      "outputs": [
        {
          "data": {
            "application/vnd.jupyter.widget-view+json": {
              "model_id": "ea58c431d9cf4fc5b7853bb6da590d18",
              "version_major": 2,
              "version_minor": 0
            },
            "text/plain": [
              "model.safetensors:   0%|          | 0.00/440M [00:00<?, ?B/s]"
            ]
          },
          "metadata": {},
          "output_type": "display_data"
        },
        {
          "name": "stderr",
          "output_type": "stream",
          "text": [
            "TensorFlow and JAX classes are deprecated and will be removed in Transformers v5. We recommend migrating to PyTorch classes or pinning your version of Transformers.\n",
            "All PyTorch model weights were used when initializing TFBertForSequenceClassification.\n",
            "\n",
            "Some weights or buffers of the TF 2.0 model TFBertForSequenceClassification were not initialized from the PyTorch model and are newly initialized: ['classifier.weight', 'classifier.bias']\n",
            "You should probably TRAIN this model on a down-stream task to be able to use it for predictions and inference.\n"
          ]
        }
      ],
      "source": [
        "from transformers import TFBertForSequenceClassification\n",
        "from transformers import create_optimizer\n",
        "import tensorflow as tf\n",
        "\n",
        "# Create the BERT model\n",
        "bert_model = TFBertForSequenceClassification.from_pretrained('bert-base-uncased', num_labels=2)\n",
        "\n",
        "# Set BERT training parameters\n",
        "batch_size = 16\n",
        "num_epochs = 3\n",
        "steps_per_epoch = len(X_train_text) // batch_size\n",
        "num_train_steps = steps_per_epoch * num_epochs\n",
        "num_warmup_steps = int(0.1 * num_train_steps)\n",
        "\n",
        "optimizer, schedule = create_optimizer(\n",
        "    init_lr=2e-5,\n",
        "    num_warmup_steps=num_warmup_steps,\n",
        "    num_train_steps=num_train_steps\n",
        ")"
      ]
    },
    {
      "cell_type": "code",
      "execution_count": null,
      "metadata": {
        "id": "WHl-IDu92rPt"
      },
      "outputs": [],
      "source": [
        "# Compile BERT model\n",
        "bert_model.compile(optimizer=optimizer,\n",
        "                   loss=tf.keras.losses.SparseCategoricalCrossentropy(from_logits=True),\n",
        "                   metrics=['accuracy'])\n",
        "\n",
        "# Convert labels and create TensorFlow Datasets\n",
        "y_train = tf.convert_to_tensor(y_train, dtype=tf.int64)\n",
        "y_test = tf.convert_to_tensor(y_test, dtype=tf.int64)\n",
        "\n",
        "# Create datasets\n",
        "train_dataset = tf.data.Dataset.from_tensor_slices((\n",
        "    dict(train_encodings),\n",
        "    y_train\n",
        ")).batch(batch_size)\n",
        "\n",
        "test_dataset = tf.data.Dataset.from_tensor_slices((\n",
        "    dict(test_encodings),\n",
        "    y_test\n",
        ")).batch(batch_size)"
      ]
    },
    {
      "cell_type": "code",
      "execution_count": null,
      "metadata": {
        "colab": {
          "base_uri": "https://localhost:8080/"
        },
        "id": "djv1rDyG4Ix6",
        "outputId": "7d8c51ef-a576-494c-bf6e-4534ad1e756e"
      },
      "outputs": [
        {
          "name": "stdout",
          "output_type": "stream",
          "text": [
            "Epoch 1/3\n",
            "2235/2235 [==============================] - 1552s 664ms/step - loss: 0.0606 - accuracy: 0.9759 - val_loss: 0.0131 - val_accuracy: 0.9971\n",
            "Epoch 2/3\n",
            "2235/2235 [==============================] - 1485s 665ms/step - loss: 0.0069 - accuracy: 0.9985 - val_loss: 0.0064 - val_accuracy: 0.9985\n",
            "Epoch 3/3\n",
            "2235/2235 [==============================] - 1481s 663ms/step - loss: 0.0033 - accuracy: 0.9992 - val_loss: 0.0045 - val_accuracy: 0.9989\n"
          ]
        },
        {
          "data": {
            "text/plain": [
              "<tf_keras.src.callbacks.History at 0x7b7991030810>"
            ]
          },
          "execution_count": 15,
          "metadata": {},
          "output_type": "execute_result"
        }
      ],
      "source": [
        "# Fine-tune the BERT model\n",
        "bert_model.fit(train_dataset, epochs=num_epochs, validation_data=test_dataset)"
      ]
    },
    {
      "cell_type": "markdown",
      "source": [
        "Save the fine-tuned BERT model and tokenizer"
      ],
      "metadata": {
        "id": "vMtIARMrVjvS"
      }
    },
    {
      "cell_type": "code",
      "execution_count": null,
      "metadata": {
        "colab": {
          "base_uri": "https://localhost:8080/"
        },
        "id": "m-lm3TmLFoCK",
        "outputId": "2e77aec9-3dae-435b-9cd3-98780e5f0755"
      },
      "outputs": [
        {
          "data": {
            "text/plain": [
              "('/content/drive/My Drive/Projects/pretrained_models/bert-fake-news-model/tokenizer_config.json',\n",
              " '/content/drive/My Drive/Projects/pretrained_models/bert-fake-news-model/special_tokens_map.json',\n",
              " '/content/drive/My Drive/Projects/pretrained_models/bert-fake-news-model/vocab.txt',\n",
              " '/content/drive/My Drive/Projects/pretrained_models/bert-fake-news-model/added_tokens.json')"
            ]
          },
          "execution_count": 17,
          "metadata": {},
          "output_type": "execute_result"
        }
      ],
      "source": [
        "bert_model.save_pretrained(\"/content/drive/My Drive/Projects/pretrained_models/bert-fake-news-model\")\n",
        "tokenizer.save_pretrained(\"/content/drive/My Drive/Projects/pretrained_models/bert-fake-news-model\")"
      ]
    }
  ],
  "metadata": {
    "accelerator": "GPU",
    "colab": {
      "gpuType": "T4",
      "provenance": [],
      "toc_visible": true,
      "authorship_tag": "ABX9TyMDeXqxSUiq9+R7WXXMf0VM",
      "include_colab_link": true
    },
    "kernelspec": {
      "display_name": "Python 3",
      "name": "python3"
    },
    "language_info": {
      "name": "python"
    }
  },
  "nbformat": 4,
  "nbformat_minor": 0
}